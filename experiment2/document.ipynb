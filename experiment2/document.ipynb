 "cells": [
  {
   "cell_type": "code",
   "execution_count": 66,
   "metadata": {},
   "outputs": [],
   "source": [
    "from sklearn.datasets import fetch_20newsgroups\n",
    "from sklearn.decomposition import TruncatedSVD\n",
    "from sklearn.feature_extraction.text import TfidfVectorizer\n",
    "from sklearn.feature_extraction.text import HashingVectorizer\n",
    "from sklearn.feature_extraction.text import TfidfTransformer\n",
    "from sklearn.pipeline import make_pipeline\n",
    "from sklearn.preprocessing import Normalizer\n",
    "from sklearn import metrics\n",
    "from sklearn.cluster import KMeans, MiniBatchKMeans\n",
    "from sklearn.mixture import GaussianMixture\n",
    "import logging\n",
    "from optparse import OptionParser\n",
    "import sys\n",
    "from time import time\n",
    "import numpy as np\n",
    "from sklearn.cluster.bicluster import SpectralCoclustering\n",
    "from sklearn.cluster import KMeans,AffinityPropagation,MeanShift,SpectralClustering,AgglomerativeClustering,DBSCAN"
   ]
  },
  {
   "cell_type": "code",
   "execution_count": 55,
   "metadata": {},
   "outputs": [],
   "source": [
    "def evaluation(labels_true,labels_pred):\n",
    "    print(\"Normalized Mutual Information:%0.3f\"%\n",
    "          metrics.normalized_mutual_info_score(labels_true,labels_pred))\n",
    "    print(\"Homogeneity: %0.3f\" %\n",
    "          metrics.homogeneity_score(labels_true, labels_pred))\n",
    "    print(\"Completeness: %0.3f\" %\n",
    "          metrics.completeness_score(labels_true, labels_pred))\n",
    "    print()\n",
    "# def keans():\n",
    "    "
   ]
  },
  {
   "cell_type": "code",
   "execution_count": 56,
   "metadata": {},
   "outputs": [
    {
     "name": "stdout",
     "output_type": "stream",
     "text": [
      "3387 documents\n",
      "4 categories\n",
      "\n"
     ]
    }
   ],
   "source": [
    "categories = [\n",
    "    'alt.atheism',\n",
    "    'talk.religion.misc',\n",
    "    'comp.graphics',\n",
    "    'sci.space',\n",
    "]\n",
    "\n",
    "dataset = fetch_20newsgroups(subset='all', categories=categories,\n",
    "                             shuffle=True, random_state=42)\n",
    "print(\"%d documents\" % len(dataset.data))\n",
    "print(\"%d categories\" % len(dataset.target_names))\n",
    "print()\n",
    "labels = dataset.target\n",
    "true_k = np.unique(labels).shape[0]"
   ]
  },
  {
   "cell_type": "code",
   "execution_count": 53,
   "metadata": {},
   "outputs": [],
   "source": [
    "# print(\"Performing dimensionality reduction using LSA\")\n",
    "# t0 = time()\n",
    "# # Vectorizer results are normalized, which makes KMeans behave as\n",
    "# # spherical k-means for better results. Since LSA/SVD results are\n",
    "# # not normalized, we have to redo the normalization.\n",
    "\n",
    "\n",
    "# X = lsa.fit_transform(X)\n",
    "\n",
    "# print(\"done in %fs\" % (time() - t0))\n",
    "\n",
    "# explained_variance = svd.explained_variance_ratio_.sum()\n",
    "# print(\"Explained variance of the SVD step: {}%\".format(\n",
    "#     int(explained_variance * 100)))\n",
    "\n",
    "# print()\n",
    "# hasher = HashingVectorizer(n_features=10000,\n",
    "#                                    stop_words='english', alternate_sign=False,\n",
    "#                                    norm=None, binary=False)\n",
    "# vectorizer = make_pipeline(hasher, TfidfTransformer())\n",
    "vectorizer = TfidfVectorizer(max_df=0.5, max_features=10000,\n",
    "                                 min_df=2, stop_words='english',\n",
    "                                 use_idf=True)\n",
    "X = vectorizer.fit_transform(dataset.data)\n",
    "def kmeans():\n",
    "    km = MiniBatchKMeans(n_clusters=true_k, init='k-means++', max_iter=100, n_init=1,\n",
    "                    verbose=False)\n",
    "    km.fit(X)\n",
    "    labels_true=km.labels_\n",
    "    evaluation(labels,labels_true)\n",
    "# kmeans()"
   ]
  },
  {
   "cell_type": "code",
   "execution_count": 61,
   "metadata": {},
   "outputs": [
    {
     "name": "stdout",
     "output_type": "stream",
     "text": [
      "method: AP\n",
      "Normalized Mutual Information:0.419\n",
      "Homogeneity: 0.738\n",
      "Completeness: 0.238\n",
      "\n"
     ]
    },
    {
     "name": "stderr",
     "output_type": "stream",
     "text": [
      "/home/shichaoyu/anaconda3/lib/python3.7/site-packages/sklearn/metrics/cluster/supervised.py:859: FutureWarning: The behavior of NMI will change in version 0.22. To match the behavior of 'v_measure_score', NMI will use average_method='arithmetic' by default.\n",
      "  FutureWarning)\n"
     ]
    }
   ],
   "source": [
    "\n",
    "print(\"method: AP\")\n",
    "svd = TruncatedSVD(10)\n",
    "normalizer = Normalizer(copy=False)\n",
    "lsa = make_pipeline(svd, normalizer)\n",
    "\n",
    "AP_X = lsa.fit_transform(X)\n",
    "AP=AffinityPropagation().fit(AP_X)\n",
    "labels_pred2 = AP.fit_predict(AP_X)\n",
    "evaluation(labels,labels_pred2)"
   ]
  },
  {
   "cell_type": "code",
   "execution_count": 63,
   "metadata": {},
   "outputs": [
    {
     "name": "stdout",
     "output_type": "stream",
     "text": [
      "method: Mean shift\n",
      "Normalized Mutual Information:0.000\n",
      "Homogeneity: 0.000\n",
      "Completeness: 1.000\n",
      "\n"
     ]
    },
    {
     "name": "stderr",
     "output_type": "stream",
     "text": [
      "/home/shichaoyu/anaconda3/lib/python3.7/site-packages/sklearn/metrics/cluster/supervised.py:859: FutureWarning: The behavior of NMI will change in version 0.22. To match the behavior of 'v_measure_score', NMI will use average_method='arithmetic' by default.\n",
      "  FutureWarning)\n"
     ]
    }
   ],
   "source": [
    "print(\"method: Mean shift\")\n",
    "svd = TruncatedSVD(4)\n",
    "normalizer = Normalizer(copy=False)\n",
    "lsa = make_pipeline(svd, normalizer)\n",
    "\n",
    "MS_X = lsa.fit_transform(X)\n",
    "ms=MeanShift()\n",
    "labels_pred3=ms.fit_predict(MS_X)\n",
    "evaluation(labels, labels_pred3)\n",
    "\n"
   ]
  },
  {
   "cell_type": "code",
   "execution_count": 68,
   "metadata": {},
   "outputs": [
    {
     "name": "stdout",
     "output_type": "stream",
     "text": [
      "method: Spectral clustering\n",
      "Coclustering...\n",
      "Normalized Mutual Information:0.542\n",
      "Homogeneity: 0.691\n",
      "Completeness: 0.425\n",
      "\n"
     ]
    },
    {
     "name": "stderr",
     "output_type": "stream",
     "text": [
      "/home/shichaoyu/anaconda3/lib/python3.7/site-packages/sklearn/metrics/cluster/supervised.py:859: FutureWarning: The behavior of NMI will change in version 0.22. To match the behavior of 'v_measure_score', NMI will use average_method='arithmetic' by default.\n",
      "  FutureWarning)\n"
     ]
    }
   ],
   "source": [
    "\n",
    "print(\"method: Spectral clustering\")\n",
    "cocluster = SpectralCoclustering(n_clusters=20,\n",
    "                                 svd_method='arpack', random_state=0)\n",
    "\n",
    "print(\"Coclustering...\")\n",
    "start_time = time()\n",
    "cocluster.fit(X)\n",
    "y_cocluster = cocluster.row_labels_\n",
    "evaluation(labels, y_cocluster)\n"
   ]
  },
  {
   "cell_type": "code",
   "execution_count": 71,
   "metadata": {},
   "outputs": [
    {
     "name": "stdout",
     "output_type": "stream",
     "text": [
      "method: Ward\n",
      "Normalized Mutual Information:0.442\n",
      "Homogeneity: 0.723\n",
      "Completeness: 0.270\n",
      "\n"
     ]
    },
    {
     "name": "stderr",
     "output_type": "stream",
     "text": [
      "/home/shichaoyu/anaconda3/lib/python3.7/site-packages/sklearn/metrics/cluster/supervised.py:859: FutureWarning: The behavior of NMI will change in version 0.22. To match the behavior of 'v_measure_score', NMI will use average_method='arithmetic' by default.\n",
      "  FutureWarning)\n"
     ]
    }
   ],
   "source": [
    "\n",
    "print(\"method: Ward\")\n",
    "ward=AgglomerativeClustering(n_clusters=20)\n",
    "WA_X = lsa.fit_transform(X)\n",
    "labels_pred5=ward.fit_predict(WA_X)\n",
    "evaluation(labels_true,labels_pred5)\n",
    "#\n",
    "\n"
   ]
  },
  {
   "cell_type": "code",
   "execution_count": 73,
   "metadata": {},
   "outputs": [
    {
     "name": "stdout",
     "output_type": "stream",
     "text": [
      "method: Agglomerative\n",
      "Normalized Mutual Information:0.465\n",
      "Homogeneity: 0.672\n",
      "Completeness: 0.322\n",
      "\n"
     ]
    },
    {
     "name": "stderr",
     "output_type": "stream",
     "text": [
      "/home/shichaoyu/anaconda3/lib/python3.7/site-packages/sklearn/metrics/cluster/supervised.py:859: FutureWarning: The behavior of NMI will change in version 0.22. To match the behavior of 'v_measure_score', NMI will use average_method='arithmetic' by default.\n",
      "  FutureWarning)\n"
     ]
    }
   ],
   "source": [
    "\n",
    "print(\"method: Agglomerative\")\n",
    "ac=AgglomerativeClustering(n_clusters=20,linkage ='average')\n",
    "labels_pred6=ac.fit_predict(WA_X)\n",
    "evaluation(labels_true, labels_pred6)\n"
   ]
  },
  {
   "cell_type": "code",
   "execution_count": 77,
   "metadata": {},
   "outputs": [
    {
     "name": "stdout",
     "output_type": "stream",
     "text": [
      "method: DBSCAN \n",
      "Normalized Mutual Information:0.008\n",
      "Homogeneity: 0.001\n",
      "Completeness: 0.077\n",
      "\n"
     ]
    },
    {
     "name": "stderr",
     "output_type": "stream",
     "text": [
      "/home/shichaoyu/anaconda3/lib/python3.7/site-packages/sklearn/metrics/cluster/supervised.py:859: FutureWarning: The behavior of NMI will change in version 0.22. To match the behavior of 'v_measure_score', NMI will use average_method='arithmetic' by default.\n",
      "  FutureWarning)\n"
     ]
    }
   ],
   "source": [
    "\n",
    "\n",
    "print(\"method: DBSCAN \")\n",
    "\n",
    "DB=DBSCAN()\n",
    "\n",
    "labels_pred7=DB.fit_predict(X)\n",
    "evaluation(labels_true, labels_pred7)\n",
    "#\n"
   ]
  },
  {
   "cell_type": "code",
   "execution_count": null,
   "metadata": {},
   "outputs": [],
   "source": [
    "print(\"method: Gaussian mixtures\")\n",
    "\n",
    "labels_pred8=Guass.fit_predict(X)\n",
    "evaluation(labels_true, labels_pred8)\n",
    "Guass=GaussianMixture(n_components=20)"
   ]
  }
 ],
 "metadata": {
  "kernelspec": {
   "display_name": "Python 3",
   "language": "python",
   "name": "python3"
  },
  "language_info": {
   "codemirror_mode": {
    "name": "ipython",
    "version": 3
   },
   "file_extension": ".py",
   "mimetype": "text/x-python",
   "name": "python",
   "nbconvert_exporter": "python",
   "pygments_lexer": "ipython3",
   "version": "3.7.4"
  }
 },
 "nbformat": 4,
 "nbformat_minor": 2
}
